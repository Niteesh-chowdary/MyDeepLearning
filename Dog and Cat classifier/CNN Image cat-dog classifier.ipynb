{
 "cells": [
  {
   "cell_type": "code",
   "execution_count": 1,
   "id": "1c4b407e",
   "metadata": {},
   "outputs": [],
   "source": [
    "import numpy as np\n",
    "import pickle\n",
    "import matplotlib.pyplot as plt\n",
    "import tensorflow as tf\n",
    "from tensorflow import keras\n",
    "from tensorflow.keras.models import Sequential\n",
    "from tensorflow.keras.layers import Conv2D,Dense,Activation,Flatten,MaxPooling2D,Dropout\n",
    "\n",
    "physicaldevices = tf.config.list_physical_devices('GPU')\n",
    "tf.config.experimental.set_memory_growth(physicaldevices[0],True)\n",
    "\n",
    "%matplotlib inline"
   ]
  },
  {
   "cell_type": "markdown",
   "id": "250d08a6",
   "metadata": {},
   "source": [
    "Data set - https://www.kaggle.com/datasets/tongpython/cat-and-dog\n",
    "<br>\n",
    "Dog - 0\n",
    "<br>\n",
    "Cat - 1\n",
    "<br>\n",
    "save the data using load_dataset.py code into pickle files\n",
    "<br>\n",
    "load the data and make a train and test datasets"
   ]
  },
  {
   "cell_type": "code",
   "execution_count": 2,
   "id": "5f9bbfdd",
   "metadata": {},
   "outputs": [
    {
     "name": "stdout",
     "output_type": "stream",
     "text": [
      "(10000, 64, 64, 3)\n",
      "(10000, 1)\n"
     ]
    }
   ],
   "source": [
    "pickle_in = open('X_traincat.pickle','rb')\n",
    "X_orig = pickle.load(pickle_in)         #trainX\n",
    "pickle_in = open('Y_traincat.pickle','rb')\n",
    "Y_orig = pickle.load(pickle_in)         #trainY\n",
    "Y_orig = Y_orig.reshape(Y_orig.shape[0],1)\n",
    "print(X_orig.shape)\n",
    "print(Y_orig.shape)"
   ]
  },
  {
   "cell_type": "code",
   "execution_count": 3,
   "id": "62c0f5fa",
   "metadata": {},
   "outputs": [
    {
     "name": "stdout",
     "output_type": "stream",
     "text": [
      "[1]\n"
     ]
    },
    {
     "data": {
      "image/png": "[encoded data removed]",
      "text/plain": [
       "<Figure size 432x288 with 1 Axes>"
      ]
     },
     "metadata": {
      "needs_background": "light"
     },
     "output_type": "display_data"
    }
   ],
   "source": [
    "# Example of a picture\n",
    "index = 25\n",
    "plt.imshow(X_orig[index])\n",
    "print(Y_orig[index])"
   ]
  },
  {
   "cell_type": "code",
   "execution_count": 4,
   "id": "9f55fc76",
   "metadata": {},
   "outputs": [
    {
     "name": "stdout",
     "output_type": "stream",
     "text": [
      "(8000, 64, 64, 3)\n",
      "(2000, 64, 64, 3)\n",
      "(8000, 1)\n",
      "(2000, 1)\n"
     ]
    }
   ],
   "source": [
    "train_X = X_orig[:8000,:]/255\n",
    "test_X = X_orig[8000:10000,:]/255\n",
    "train_Y = Y_orig[:8000,:]\n",
    "test_Y = Y_orig[8000:10000,:]\n",
    "print(train_X.shape)\n",
    "print(test_X.shape)\n",
    "print(train_Y.shape)\n",
    "print(test_Y.shape)"
   ]
  },
  {
   "cell_type": "code",
   "execution_count": 5,
   "id": "37a5e8f7",
   "metadata": {},
   "outputs": [],
   "source": [
    "model = keras.Sequential([\n",
    "    keras.Input(shape=(64,64,3)),\n",
    "    Conv2D(64,(3,3),padding='same',activation=\"relu\",kernel_initializer='HeUniform'),\n",
    "    MaxPooling2D(pool_size=(2,2)),\n",
    "    \n",
    "    Conv2D(128,(3,3),padding='same',activation=\"relu\",kernel_initializer='HeUniform'),\n",
    "    MaxPooling2D(pool_size=(2,2)),\n",
    "    \n",
    "    Conv2D(128,(3,3),padding='same',activation=\"relu\",kernel_initializer='HeUniform'),\n",
    "    MaxPooling2D(pool_size=(2,2)),\n",
    "    \n",
    "    Flatten(),\n",
    "    Dense(512,activation=\"relu\",kernel_initializer='HeUniform'),\n",
    "    Dense(256,activation=\"relu\",kernel_initializer='HeUniform'),\n",
    "    Dense(128,activation='relu',kernel_initializer='HeUniform'),\n",
    "    Dense(1,activation='sigmoid')\n",
    "])"
   ]
  },
  {
   "cell_type": "markdown",
   "id": "953c579d",
   "metadata": {},
   "source": [
    "you can use the saved weights of my model\n",
    "<br>\n",
    "load the weights into model using model.load_weights('..path') after designing and before compiling the model"
   ]
  },
  {
   "cell_type": "code",
   "execution_count": 6,
   "id": "912ee3d0",
   "metadata": {},
   "outputs": [
    {
     "data": {
      "text/plain": [
       "<tensorflow.python.training.tracking.util.CheckpointLoadStatus at 0x1c8e25f9460>"
      ]
     },
     "execution_count": 6,
     "metadata": {},
     "output_type": "execute_result"
    }
   ],
   "source": [
    "model.load_weights('savedWeights/')"
   ]
  },
  {
   "cell_type": "code",
   "execution_count": 7,
   "id": "56b14e54",
   "metadata": {},
   "outputs": [],
   "source": [
    "model.compile(loss=\"binary_crossentropy\",optimizer=keras.optimizers.Adam(learning_rate=0.001),metrics=[\"accuracy\"])"
   ]
  },
  {
   "cell_type": "code",
   "execution_count": 8,
   "id": "d6327641",
   "metadata": {
    "scrolled": true
   },
   "outputs": [],
   "source": [
    "# model.fit(test_X,test_Y,batch_size=32,epochs=40,verbose=2)"
   ]
  },
  {
   "cell_type": "code",
   "execution_count": 9,
   "id": "1f11aabb",
   "metadata": {},
   "outputs": [
    {
     "name": "stdout",
     "output_type": "stream",
     "text": [
      "63/63 - 3s - loss: 0.0066 - accuracy: 0.9975 - 3s/epoch - 46ms/step\n"
     ]
    },
    {
     "data": {
      "text/plain": [
       "[0.006563334260135889, 0.9975000023841858]"
      ]
     },
     "execution_count": 9,
     "metadata": {},
     "output_type": "execute_result"
    }
   ],
   "source": [
    "model.evaluate(test_X,test_Y,batch_size=32,verbose=2)"
   ]
  },
  {
   "cell_type": "code",
   "execution_count": 10,
   "id": "1ff12944",
   "metadata": {},
   "outputs": [
    {
     "name": "stdout",
     "output_type": "stream",
     "text": [
      "[[[0.38039216 0.41568627 0.43137255]\n",
      "  [0.34117647 0.38039216 0.39215686]\n",
      "  [0.31372549 0.34901961 0.36470588]\n",
      "  ...\n",
      "  [0.09019608 0.08627451 0.09803922]\n",
      "  [0.08235294 0.07843137 0.09019608]\n",
      "  [0.07058824 0.0745098  0.05882353]]\n",
      "\n",
      " [[0.37647059 0.41176471 0.42745098]\n",
      "  [0.34509804 0.38039216 0.39607843]\n",
      "  [0.31764706 0.35294118 0.36862745]\n",
      "  ...\n",
      "  [0.10588235 0.10588235 0.10588235]\n",
      "  [0.09019608 0.09019608 0.09019608]\n",
      "  [0.0627451  0.06666667 0.05490196]]\n",
      "\n",
      " [[0.37254902 0.40784314 0.42352941]\n",
      "  [0.34509804 0.38039216 0.39607843]\n",
      "  [0.3254902  0.36078431 0.37647059]\n",
      "  ...\n",
      "  [0.1372549  0.1372549  0.12941176]\n",
      "  [0.11372549 0.11764706 0.10980392]\n",
      "  [0.08235294 0.08235294 0.08235294]]\n",
      "\n",
      " ...\n",
      "\n",
      " [[0.80392157 0.8        0.78431373]\n",
      "  [0.80392157 0.8        0.78431373]\n",
      "  [0.80392157 0.8        0.78431373]\n",
      "  ...\n",
      "  [0.1254902  0.10588235 0.09411765]\n",
      "  [0.1372549  0.11764706 0.10196078]\n",
      "  [0.1254902  0.10588235 0.10196078]]\n",
      "\n",
      " [[0.8        0.79607843 0.78039216]\n",
      "  [0.8        0.79607843 0.78039216]\n",
      "  [0.8        0.79607843 0.78039216]\n",
      "  ...\n",
      "  [0.11764706 0.10196078 0.08235294]\n",
      "  [0.11764706 0.10196078 0.08235294]\n",
      "  [0.11764706 0.09803922 0.08627451]]\n",
      "\n",
      " [[0.78823529 0.78431373 0.76862745]\n",
      "  [0.79607843 0.79607843 0.78039216]\n",
      "  [0.79607843 0.79215686 0.77647059]\n",
      "  ...\n",
      "  [0.11764706 0.10588235 0.0745098 ]\n",
      "  [0.10588235 0.09411765 0.0627451 ]\n",
      "  [0.10980392 0.09411765 0.0745098 ]]]\n",
      "[1]\n"
     ]
    }
   ],
   "source": [
    "print(train_X[0])\n",
    "print(train_Y[0])"
   ]
  },
  {
   "cell_type": "code",
   "execution_count": 11,
   "id": "c6a8203d",
   "metadata": {
    "scrolled": true
   },
   "outputs": [
    {
     "data": {
      "text/plain": [
       "<matplotlib.image.AxesImage at 0x1c8beaf96a0>"
      ]
     },
     "execution_count": 11,
     "metadata": {},
     "output_type": "execute_result"
    },
    {
     "data": {
      "image/png": "[encoded data removed]",
      "text/plain": [
       "<Figure size 432x288 with 1 Axes>"
      ]
     },
     "metadata": {
      "needs_background": "light"
     },
     "output_type": "display_data"
    }
   ],
   "source": [
    "plt.imshow(train_X[0])"
   ]
  },
  {
   "cell_type": "code",
   "execution_count": 12,
   "id": "1d84229a",
   "metadata": {},
   "outputs": [
    {
     "name": "stdout",
     "output_type": "stream",
     "text": [
      "[1]\n"
     ]
    }
   ],
   "source": [
    "print(train_Y[0])"
   ]
  },
  {
   "cell_type": "code",
   "execution_count": 13,
   "id": "c45c3906",
   "metadata": {},
   "outputs": [
    {
     "name": "stdout",
     "output_type": "stream",
     "text": [
      "[0]\n"
     ]
    },
    {
     "data": {
      "image/png": "[encoded data removed]",
      "text/plain": [
       "<Figure size 432x288 with 1 Axes>"
      ]
     },
     "metadata": {
      "needs_background": "light"
     },
     "output_type": "display_data"
    }
   ],
   "source": [
    "plt.imshow(test_X[100])\n",
    "print(test_Y[100])"
   ]
  },
  {
   "cell_type": "code",
   "execution_count": 14,
   "id": "13c26a8f",
   "metadata": {},
   "outputs": [],
   "source": [
    "# model.save_weights('savedWeights/')"
   ]
  },
  {
   "cell_type": "code",
   "execution_count": null,
   "id": "fd3a064b",
   "metadata": {},
   "outputs": [],
   "source": []
  }
 ],
 "metadata": {
  "kernelspec": {
   "display_name": "Python 3 (ipykernel)",
   "language": "python",
   "name": "python3"
  },
  "language_info": {
   "codemirror_mode": {
    "name": "ipython",
    "version": 3
   },
   "file_extension": ".py",
   "mimetype": "text/x-python",
   "name": "python",
   "nbconvert_exporter": "python",
   "pygments_lexer": "ipython3",
   "version": "3.9.0"
  }
 },
 "nbformat": 4,
 "nbformat_minor": 5
}
