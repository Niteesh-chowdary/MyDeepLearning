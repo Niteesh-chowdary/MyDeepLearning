{
 "cells": [
  {
   "cell_type": "code",
   "execution_count": 1,
   "id": "678536b9",
   "metadata": {},
   "outputs": [],
   "source": [
    "import tensorflow as tf\n",
    "from tensorflow import keras\n",
    "from tensorflow.keras import layers\n",
    "import pickle\n",
    "import os\n",
    "import matplotlib.pyplot as plt\n",
    "\n",
    "# commands if you run the model on GPU\n",
    "physicaldevices = tf.config.list_physical_devices('GPU')\n",
    "tf.config.experimental.set_memory_growth(physicaldevices[0],True)"
   ]
  },
  {
   "cell_type": "code",
   "execution_count": 2,
   "id": "900c6c8d",
   "metadata": {},
   "outputs": [
    {
     "name": "stdout",
     "output_type": "stream",
     "text": [
      "(15000, 1)\n",
      "(15000, 64, 64, 3)\n"
     ]
    }
   ],
   "source": [
    "pickle_in = open(\"X_Numbers.pickle\",'rb')\n",
    "X = pickle.load(pickle_in)\n",
    "pickle_in = open(\"Y_Numbers.pickle\",'rb')\n",
    "Y = pickle.load(pickle_in)\n",
    "print(Y.shape)\n",
    "print(X.shape)"
   ]
  },
  {
   "cell_type": "code",
   "execution_count": 3,
   "id": "ce962f5c",
   "metadata": {},
   "outputs": [],
   "source": [
    "X_train = X/255\n",
    "Y_train = Y"
   ]
  },
  {
   "cell_type": "code",
   "execution_count": 4,
   "id": "448d5239",
   "metadata": {},
   "outputs": [
    {
     "name": "stdout",
     "output_type": "stream",
     "text": [
      "(3000, 64, 64, 3)\n"
     ]
    }
   ],
   "source": [
    "X_valid = X[10000:13000,:]/255\n",
    "Y_valid = Y[10000:13000,:]\n",
    "\n",
    "print(X_valid.shape)"
   ]
  },
  {
   "cell_type": "code",
   "execution_count": 5,
   "id": "ddf84043",
   "metadata": {},
   "outputs": [],
   "source": [
    "X_test = X[13000:15000,:]/255\n",
    "Y_test = Y[13000:15000,:]"
   ]
  },
  {
   "cell_type": "code",
   "execution_count": 6,
   "id": "04e03f13",
   "metadata": {},
   "outputs": [
    {
     "name": "stdout",
     "output_type": "stream",
     "text": [
      "(15000, 64, 64, 3)\n",
      "(15000, 1)\n"
     ]
    }
   ],
   "source": [
    "print(X_train.shape)\n",
    "print(Y_train.shape)"
   ]
  },
  {
   "cell_type": "code",
   "execution_count": 7,
   "id": "62debfbe",
   "metadata": {},
   "outputs": [],
   "source": [
    "# sequential API \n",
    "\n",
    "model = keras.Sequential(\n",
    "    [\n",
    "        keras.Input(shape=(64,64,3)),\n",
    "        layers.Conv2D(64,(3,3),padding='same',activation='relu'),\n",
    "        layers.MaxPooling2D(),\n",
    "        layers.Conv2D(64,(3,3),padding='same',activation='relu'),\n",
    "        layers.MaxPooling2D(),\n",
    "        layers.Flatten(),\n",
    "        layers.Dense(512,activation=\"relu\"),\n",
    "        layers.Dense(256,activation=\"relu\"),\n",
    "        layers.Dense(10),\n",
    "    ]\n",
    ")\n",
    "\n",
    "model.compile(\n",
    "#     sparse if you don't have output in one hot encoding\n",
    "#     without sparse if you have output in one hot encoding\n",
    "    loss = keras.losses.SparseCategoricalCrossentropy(from_logits=True),\n",
    "    optimizer = keras.optimizers.Adam(learning_rate=0.0001),\n",
    "    metrics = ['accuracy']\n",
    ")"
   ]
  },
  {
   "cell_type": "code",
   "execution_count": 8,
   "id": "88668d66",
   "metadata": {},
   "outputs": [
    {
     "name": "stdout",
     "output_type": "stream",
     "text": [
      "Epoch 1/50\n",
      "235/235 - 67s - loss: 1.8349 - accuracy: 0.3834 - 67s/epoch - 285ms/step\n",
      "Epoch 2/50\n",
      "235/235 - 57s - loss: 1.0106 - accuracy: 0.6950 - 57s/epoch - 242ms/step\n",
      "Epoch 3/50\n",
      "235/235 - 57s - loss: 0.7035 - accuracy: 0.7930 - 57s/epoch - 241ms/step\n",
      "Epoch 4/50\n",
      "235/235 - 57s - loss: 0.5087 - accuracy: 0.8504 - 57s/epoch - 241ms/step\n",
      "Epoch 5/50\n",
      "235/235 - 57s - loss: 0.3708 - accuracy: 0.8897 - 57s/epoch - 241ms/step\n",
      "Epoch 6/50\n",
      "235/235 - 57s - loss: 0.2775 - accuracy: 0.9172 - 57s/epoch - 242ms/step\n",
      "Epoch 7/50\n",
      "235/235 - 57s - loss: 0.2043 - accuracy: 0.9423 - 57s/epoch - 242ms/step\n",
      "Epoch 8/50\n",
      "235/235 - 57s - loss: 0.1516 - accuracy: 0.9581 - 57s/epoch - 242ms/step\n",
      "Epoch 9/50\n",
      "235/235 - 57s - loss: 0.1148 - accuracy: 0.9703 - 57s/epoch - 241ms/step\n",
      "Epoch 10/50\n",
      "235/235 - 57s - loss: 0.0867 - accuracy: 0.9791 - 57s/epoch - 241ms/step\n",
      "Epoch 11/50\n",
      "235/235 - 57s - loss: 0.0609 - accuracy: 0.9871 - 57s/epoch - 241ms/step\n",
      "Epoch 12/50\n",
      "235/235 - 57s - loss: 0.0451 - accuracy: 0.9918 - 57s/epoch - 241ms/step\n",
      "Epoch 13/50\n",
      "235/235 - 57s - loss: 0.0335 - accuracy: 0.9948 - 57s/epoch - 241ms/step\n",
      "Epoch 14/50\n",
      "235/235 - 57s - loss: 0.0258 - accuracy: 0.9961 - 57s/epoch - 241ms/step\n",
      "Epoch 15/50\n",
      "235/235 - 57s - loss: 0.0226 - accuracy: 0.9964 - 57s/epoch - 242ms/step\n",
      "Epoch 16/50\n",
      "235/235 - 57s - loss: 0.0219 - accuracy: 0.9956 - 57s/epoch - 242ms/step\n",
      "Epoch 17/50\n",
      "235/235 - 57s - loss: 0.0155 - accuracy: 0.9976 - 57s/epoch - 242ms/step\n",
      "Epoch 18/50\n",
      "235/235 - 57s - loss: 0.0215 - accuracy: 0.9950 - 57s/epoch - 242ms/step\n",
      "Epoch 19/50\n",
      "235/235 - 57s - loss: 0.0161 - accuracy: 0.9976 - 57s/epoch - 242ms/step\n",
      "Epoch 20/50\n",
      "235/235 - 57s - loss: 0.0066 - accuracy: 0.9993 - 57s/epoch - 243ms/step\n",
      "Epoch 21/50\n",
      "235/235 - 57s - loss: 0.0038 - accuracy: 0.9999 - 57s/epoch - 243ms/step\n",
      "Epoch 22/50\n",
      "235/235 - 57s - loss: 0.0021 - accuracy: 1.0000 - 57s/epoch - 243ms/step\n",
      "Epoch 23/50\n",
      "235/235 - 57s - loss: 0.0018 - accuracy: 0.9999 - 57s/epoch - 243ms/step\n",
      "Epoch 24/50\n",
      "235/235 - 57s - loss: 0.0015 - accuracy: 1.0000 - 57s/epoch - 243ms/step\n",
      "Epoch 25/50\n",
      "235/235 - 46s - loss: 0.0011 - accuracy: 1.0000 - 46s/epoch - 194ms/step\n",
      "Epoch 26/50\n",
      "235/235 - 4s - loss: 9.4640e-04 - accuracy: 1.0000 - 4s/epoch - 18ms/step\n",
      "Epoch 27/50\n",
      "235/235 - 4s - loss: 9.9168e-04 - accuracy: 1.0000 - 4s/epoch - 17ms/step\n",
      "Epoch 28/50\n",
      "235/235 - 4s - loss: 7.5770e-04 - accuracy: 1.0000 - 4s/epoch - 17ms/step\n",
      "Epoch 29/50\n",
      "235/235 - 4s - loss: 5.9961e-04 - accuracy: 1.0000 - 4s/epoch - 17ms/step\n",
      "Epoch 30/50\n",
      "235/235 - 4s - loss: 5.1860e-04 - accuracy: 1.0000 - 4s/epoch - 17ms/step\n",
      "Epoch 31/50\n",
      "235/235 - 4s - loss: 0.0611 - accuracy: 0.9801 - 4s/epoch - 17ms/step\n",
      "Epoch 32/50\n",
      "235/235 - 4s - loss: 0.0382 - accuracy: 0.9885 - 4s/epoch - 17ms/step\n",
      "Epoch 33/50\n",
      "235/235 - 4s - loss: 0.0045 - accuracy: 0.9996 - 4s/epoch - 17ms/step\n",
      "Epoch 34/50\n",
      "235/235 - 4s - loss: 0.0011 - accuracy: 1.0000 - 4s/epoch - 17ms/step\n",
      "Epoch 35/50\n",
      "235/235 - 4s - loss: 8.0629e-04 - accuracy: 1.0000 - 4s/epoch - 17ms/step\n",
      "Epoch 36/50\n",
      "235/235 - 4s - loss: 6.2445e-04 - accuracy: 1.0000 - 4s/epoch - 17ms/step\n",
      "Epoch 37/50\n",
      "235/235 - 4s - loss: 5.3553e-04 - accuracy: 1.0000 - 4s/epoch - 17ms/step\n",
      "Epoch 38/50\n",
      "235/235 - 4s - loss: 4.5438e-04 - accuracy: 1.0000 - 4s/epoch - 17ms/step\n",
      "Epoch 39/50\n",
      "235/235 - 4s - loss: 3.8155e-04 - accuracy: 1.0000 - 4s/epoch - 17ms/step\n",
      "Epoch 40/50\n",
      "235/235 - 4s - loss: 3.3462e-04 - accuracy: 1.0000 - 4s/epoch - 17ms/step\n",
      "Epoch 41/50\n",
      "235/235 - 4s - loss: 3.0172e-04 - accuracy: 1.0000 - 4s/epoch - 17ms/step\n",
      "Epoch 42/50\n",
      "235/235 - 4s - loss: 2.6969e-04 - accuracy: 1.0000 - 4s/epoch - 18ms/step\n",
      "Epoch 43/50\n",
      "235/235 - 4s - loss: 2.4187e-04 - accuracy: 1.0000 - 4s/epoch - 18ms/step\n",
      "Epoch 44/50\n",
      "235/235 - 4s - loss: 2.0950e-04 - accuracy: 1.0000 - 4s/epoch - 17ms/step\n",
      "Epoch 45/50\n",
      "235/235 - 4s - loss: 1.8799e-04 - accuracy: 1.0000 - 4s/epoch - 17ms/step\n",
      "Epoch 46/50\n",
      "235/235 - 4s - loss: 1.6922e-04 - accuracy: 1.0000 - 4s/epoch - 17ms/step\n",
      "Epoch 47/50\n",
      "235/235 - 4s - loss: 1.4947e-04 - accuracy: 1.0000 - 4s/epoch - 17ms/step\n",
      "Epoch 48/50\n",
      "235/235 - 4s - loss: 1.3628e-04 - accuracy: 1.0000 - 4s/epoch - 17ms/step\n",
      "Epoch 49/50\n",
      "235/235 - 4s - loss: 1.2199e-04 - accuracy: 1.0000 - 4s/epoch - 17ms/step\n",
      "Epoch 50/50\n",
      "235/235 - 4s - loss: 1.0958e-04 - accuracy: 1.0000 - 4s/epoch - 17ms/step\n"
     ]
    },
    {
     "data": {
      "text/plain": [
       "<keras.callbacks.History at 0x1b931212430>"
      ]
     },
     "execution_count": 8,
     "metadata": {},
     "output_type": "execute_result"
    }
   ],
   "source": [
    "model.fit(X_train,Y_train,batch_size=64,epochs=50,verbose=2)\n"
   ]
  },
  {
   "cell_type": "code",
   "execution_count": 9,
   "id": "2551be5a",
   "metadata": {},
   "outputs": [
    {
     "name": "stdout",
     "output_type": "stream",
     "text": [
      "94/94 - 1s - loss: 8.5718e-05 - accuracy: 1.0000 - 610ms/epoch - 6ms/step\n"
     ]
    },
    {
     "data": {
      "text/plain": [
       "[8.571816579205915e-05, 1.0]"
      ]
     },
     "execution_count": 9,
     "metadata": {},
     "output_type": "execute_result"
    }
   ],
   "source": [
    "model.evaluate(X_valid,Y_valid,batch_size=32,verbose=2)"
   ]
  },
  {
   "cell_type": "code",
   "execution_count": 10,
   "id": "b435b35e",
   "metadata": {},
   "outputs": [
    {
     "name": "stdout",
     "output_type": "stream",
     "text": [
      "63/63 - 0s - loss: 9.3669e-05 - accuracy: 1.0000 - 329ms/epoch - 5ms/step\n"
     ]
    },
    {
     "data": {
      "text/plain": [
       "[9.366931772092357e-05, 1.0]"
      ]
     },
     "execution_count": 10,
     "metadata": {},
     "output_type": "execute_result"
    }
   ],
   "source": [
    "model.evaluate(X_test,Y_test,batch_size=32,verbose=2)"
   ]
  },
  {
   "cell_type": "code",
   "execution_count": 11,
   "id": "a93e2d7d",
   "metadata": {},
   "outputs": [],
   "source": [
    "outputs=model.predict(X_test)"
   ]
  },
  {
   "cell_type": "code",
   "execution_count": 12,
   "id": "36ebdc03",
   "metadata": {},
   "outputs": [
    {
     "name": "stdout",
     "output_type": "stream",
     "text": [
      "[ -2.0228746 -14.431135   -9.702845   -2.6083663  -1.5856878   2.5023043\n",
      "   1.1427256   4.4675207  -1.2471173  30.34489  ]\n"
     ]
    }
   ],
   "source": [
    "print(outputs[1])"
   ]
  },
  {
   "cell_type": "code",
   "execution_count": 13,
   "id": "11c596fe",
   "metadata": {},
   "outputs": [
    {
     "name": "stdout",
     "output_type": "stream",
     "text": [
      "[9]\n"
     ]
    }
   ],
   "source": [
    "print(Y_test[1])"
   ]
  },
  {
   "cell_type": "code",
   "execution_count": null,
   "id": "d1bb932c",
   "metadata": {},
   "outputs": [],
   "source": []
  },
  {
   "cell_type": "code",
   "execution_count": 14,
   "id": "2653809b",
   "metadata": {},
   "outputs": [],
   "source": [
    "index = tf.argmax(outputs, axis=1)"
   ]
  },
  {
   "cell_type": "code",
   "execution_count": 15,
   "id": "cdf2a111",
   "metadata": {},
   "outputs": [
    {
     "name": "stdout",
     "output_type": "stream",
     "text": [
      "tf.Tensor([5 9 6 ... 0 2 1], shape=(2000,), dtype=int64)\n"
     ]
    }
   ],
   "source": [
    "print(index)"
   ]
  },
  {
   "cell_type": "code",
   "execution_count": 16,
   "id": "a56423a6",
   "metadata": {},
   "outputs": [
    {
     "name": "stdout",
     "output_type": "stream",
     "text": [
      "[[5]\n",
      " [9]\n",
      " [6]\n",
      " ...\n",
      " [0]\n",
      " [2]\n",
      " [1]]\n"
     ]
    }
   ],
   "source": [
    "print(Y_test)"
   ]
  },
  {
   "cell_type": "code",
   "execution_count": 23,
   "id": "ed24a391",
   "metadata": {},
   "outputs": [],
   "source": [
    "op2 = model.predict(X_test[10].reshape(1,64,64,3))"
   ]
  },
  {
   "cell_type": "code",
   "execution_count": 24,
   "id": "d514d520",
   "metadata": {},
   "outputs": [
    {
     "name": "stdout",
     "output_type": "stream",
     "text": [
      "[[ 22.247545  -11.10685    -5.874484   -7.109452    0.759037   -7.628192\n",
      "    1.4291774  10.899167   -3.0577717 -13.772945 ]]\n"
     ]
    }
   ],
   "source": [
    "print(op2)"
   ]
  },
  {
   "cell_type": "code",
   "execution_count": 25,
   "id": "bb19be0b",
   "metadata": {},
   "outputs": [],
   "source": [
    "i = tf.argmax(op2,axis=1)"
   ]
  },
  {
   "cell_type": "code",
   "execution_count": 26,
   "id": "21a086ef",
   "metadata": {},
   "outputs": [
    {
     "name": "stdout",
     "output_type": "stream",
     "text": [
      "tf.Tensor([0], shape=(1,), dtype=int64)\n"
     ]
    }
   ],
   "source": [
    "print(i)"
   ]
  },
  {
   "cell_type": "code",
   "execution_count": null,
   "id": "7b6e1e25",
   "metadata": {},
   "outputs": [],
   "source": []
  },
  {
   "cell_type": "code",
   "execution_count": null,
   "id": "2a39f610",
   "metadata": {},
   "outputs": [],
   "source": []
  }
 ],
 "metadata": {
  "kernelspec": {
   "display_name": "Python 3 (ipykernel)",
   "language": "python",
   "name": "python3"
  },
  "language_info": {
   "codemirror_mode": {
    "name": "ipython",
    "version": 3
   },
   "file_extension": ".py",
   "mimetype": "text/x-python",
   "name": "python",
   "nbconvert_exporter": "python",
   "pygments_lexer": "ipython3",
   "version": "3.9.0"
  }
 },
 "nbformat": 4,
 "nbformat_minor": 5
}
